{
  "nbformat": 4,
  "nbformat_minor": 0,
  "metadata": {
    "colab": {
      "provenance": [],
      "gpuType": "T4",
      "authorship_tag": "ABX9TyPOcMwCiQeswqDcvvnEYAEI",
      "include_colab_link": true
    },
    "kernelspec": {
      "name": "python3",
      "display_name": "Python 3"
    },
    "language_info": {
      "name": "python"
    },
    "accelerator": "GPU"
  },
  "cells": [
    {
      "cell_type": "markdown",
      "metadata": {
        "id": "view-in-github",
        "colab_type": "text"
      },
      "source": [
        "<a href=\"https://colab.research.google.com/github/Yash2G3/fir_se_try_karte_hai/blob/main/ASD.ipynb\" target=\"_parent\"><img src=\"https://colab.research.google.com/assets/colab-badge.svg\" alt=\"Open In Colab\"/></a>"
      ]
    },
    {
      "cell_type": "code",
      "execution_count": 1,
      "metadata": {
        "id": "Hs9bUJarhgCF"
      },
      "outputs": [],
      "source": [
        "import numpy as np\n",
        "import pandas as pd\n",
        "import seaborn as sns\n",
        "import matplotlib.pyplot as plt\n",
        "import warnings\n",
        "warnings.filterwarnings(\"ignore\")\n",
        "from sklearn.tree import DecisionTreeClassifier\n",
        "from sklearn.neighbors import KNeighborsClassifier\n",
        "from sklearn.naive_bayes import GaussianNB\n",
        "from sklearn.svm import SVC, LinearSVC\n",
        "from sklearn.ensemble import RandomForestClassifier\n",
        "from sklearn.linear_model import LinearRegression,Ridge,Lasso,RidgeCV, ElasticNet, LogisticRegression\n",
        "from sklearn.ensemble import RandomForestRegressor,BaggingRegressor,GradientBoostingRegressor,AdaBoostRegressor\n",
        "from sklearn.preprocessing import Normalizer , scale\n",
        "from sklearn.model_selection import train_test_split\n",
        "from sklearn.feature_selection import RFECV\n",
        "from sklearn.model_selection import GridSearchCV , KFold , cross_val_score, ShuffleSplit, cross_validate\n",
        "from sklearn.impute import SimpleImputer\n",
        "imputer = SimpleImputer(missing_values=np.nan, strategy='mean')\n",
        "from sklearn.preprocessing import MinMaxScaler , StandardScaler,LabelEncoder\n",
        "from sklearn.metrics import mean_squared_log_error,mean_squared_error, r2_score,mean_absolute_error\n",
        "from sklearn.metrics import accuracy_score,precision_score,recall_score,f1_score, classification_report"
      ]
    },
    {
      "cell_type": "code",
      "source": [
        "asd = pd.read_csv(\"train_final_i_think.csv\")\n",
        "asd_t=pd.read_csv(\"test_final_i_think.csv\")\n",
        "print(\"Dataset loaded...\")"
      ],
      "metadata": {
        "colab": {
          "base_uri": "https://localhost:8080/"
        },
        "id": "C9xram2bhzJ9",
        "outputId": "efa1f083-f3d8-40f8-847f-879502a20896"
      },
      "execution_count": 2,
      "outputs": [
        {
          "output_type": "stream",
          "name": "stdout",
          "text": [
            "Dataset loaded...\n"
          ]
        }
      ]
    },
    {
      "cell_type": "code",
      "source": [
        "asd=asd[0:2094]\n",
        "asd_t=asd_t[0:400]"
      ],
      "metadata": {
        "id": "ig56Zm_5qdmd"
      },
      "execution_count": 3,
      "outputs": []
    },
    {
      "cell_type": "code",
      "source": [
        "asd"
      ],
      "metadata": {
        "colab": {
          "base_uri": "https://localhost:8080/",
          "height": 634
        },
        "id": "ud8Hdp8zLT3u",
        "outputId": "cd3ac1f6-a903-4011-b609-e54337c11730"
      },
      "execution_count": 4,
      "outputs": [
        {
          "output_type": "execute_result",
          "data": {
            "text/plain": [
              "      Unnamed: 0  A1_Score  A2_Score  A3_Score  A4_Score  A5_Score  A6_Score  \\\n",
              "0              0         1         0         1         0         1         0   \n",
              "1              1         0         0         0         0         0         0   \n",
              "2              2         1         1         1         1         1         1   \n",
              "3              3         0         0         0         0         0         0   \n",
              "4              4         0         0         0         0         0         0   \n",
              "...          ...       ...       ...       ...       ...       ...       ...   \n",
              "2089        2089         1         1         0         1         0         0   \n",
              "2090        2090         1         0         0         0         0         0   \n",
              "2091        2091         1         0         0         0         0         0   \n",
              "2092        2092         0         1         0         1         0         0   \n",
              "2093        2093         1         0         1         1         1         1   \n",
              "\n",
              "      A7_Score  A8_Score  A9_Score  ...  gender       ethnicity jaundice  \\\n",
              "0            1         0         1  ...       f          Unkown       no   \n",
              "1            0         0         0  ...       m          Unkown       no   \n",
              "2            1         1         1  ...       m  White-European       no   \n",
              "3            0         0         0  ...       f          Unkown       no   \n",
              "4            0         0         0  ...       m          Unkown       no   \n",
              "...        ...       ...       ...  ...     ...             ...      ...   \n",
              "2089         0         1         0  ...       m          Latino      yes   \n",
              "2090         0         1         0  ...       m        Hispanic       no   \n",
              "2091         0         1         0  ...       f           Asian       no   \n",
              "2092         0         1         0  ...       m  White-European       no   \n",
              "2093         1         1         1  ...       f  White-European       no   \n",
              "\n",
              "     austim   contry_of_res used_app_before result     age_desc  relation  \\\n",
              "0        no         Austria              no      6  18 and more      Self   \n",
              "1        no           India              no      0  18 and more      Self   \n",
              "2       yes   United States              no     10  18 and more      Self   \n",
              "3        no   United States              no      0  18 and more      Self   \n",
              "4        no    South Africa              no      0  18 and more      Self   \n",
              "...     ...             ...             ...    ...          ...       ...   \n",
              "2089    yes      Costa Rica              no      5  18 and more    Parent   \n",
              "2090     no   United States              no      3  18 and more      Self   \n",
              "2091     no  United Kingdom              no      2  18 and more      Self   \n",
              "2092    yes  United Kingdom              no      3  18 and more      Self   \n",
              "2093     no   United States              no      9  18 and more      Self   \n",
              "\n",
              "     Class/ASD  \n",
              "0            0  \n",
              "1            0  \n",
              "2            1  \n",
              "3            0  \n",
              "4            0  \n",
              "...        ...  \n",
              "2089         0  \n",
              "2090         0  \n",
              "2091         0  \n",
              "2092         0  \n",
              "2093         1  \n",
              "\n",
              "[2094 rows x 22 columns]"
            ],
            "text/html": [
              "\n",
              "  <div id=\"df-3361d332-a7de-45b8-a240-6d2840ac7120\" class=\"colab-df-container\">\n",
              "    <div>\n",
              "<style scoped>\n",
              "    .dataframe tbody tr th:only-of-type {\n",
              "        vertical-align: middle;\n",
              "    }\n",
              "\n",
              "    .dataframe tbody tr th {\n",
              "        vertical-align: top;\n",
              "    }\n",
              "\n",
              "    .dataframe thead th {\n",
              "        text-align: right;\n",
              "    }\n",
              "</style>\n",
              "<table border=\"1\" class=\"dataframe\">\n",
              "  <thead>\n",
              "    <tr style=\"text-align: right;\">\n",
              "      <th></th>\n",
              "      <th>Unnamed: 0</th>\n",
              "      <th>A1_Score</th>\n",
              "      <th>A2_Score</th>\n",
              "      <th>A3_Score</th>\n",
              "      <th>A4_Score</th>\n",
              "      <th>A5_Score</th>\n",
              "      <th>A6_Score</th>\n",
              "      <th>A7_Score</th>\n",
              "      <th>A8_Score</th>\n",
              "      <th>A9_Score</th>\n",
              "      <th>...</th>\n",
              "      <th>gender</th>\n",
              "      <th>ethnicity</th>\n",
              "      <th>jaundice</th>\n",
              "      <th>austim</th>\n",
              "      <th>contry_of_res</th>\n",
              "      <th>used_app_before</th>\n",
              "      <th>result</th>\n",
              "      <th>age_desc</th>\n",
              "      <th>relation</th>\n",
              "      <th>Class/ASD</th>\n",
              "    </tr>\n",
              "  </thead>\n",
              "  <tbody>\n",
              "    <tr>\n",
              "      <th>0</th>\n",
              "      <td>0</td>\n",
              "      <td>1</td>\n",
              "      <td>0</td>\n",
              "      <td>1</td>\n",
              "      <td>0</td>\n",
              "      <td>1</td>\n",
              "      <td>0</td>\n",
              "      <td>1</td>\n",
              "      <td>0</td>\n",
              "      <td>1</td>\n",
              "      <td>...</td>\n",
              "      <td>f</td>\n",
              "      <td>Unkown</td>\n",
              "      <td>no</td>\n",
              "      <td>no</td>\n",
              "      <td>Austria</td>\n",
              "      <td>no</td>\n",
              "      <td>6</td>\n",
              "      <td>18 and more</td>\n",
              "      <td>Self</td>\n",
              "      <td>0</td>\n",
              "    </tr>\n",
              "    <tr>\n",
              "      <th>1</th>\n",
              "      <td>1</td>\n",
              "      <td>0</td>\n",
              "      <td>0</td>\n",
              "      <td>0</td>\n",
              "      <td>0</td>\n",
              "      <td>0</td>\n",
              "      <td>0</td>\n",
              "      <td>0</td>\n",
              "      <td>0</td>\n",
              "      <td>0</td>\n",
              "      <td>...</td>\n",
              "      <td>m</td>\n",
              "      <td>Unkown</td>\n",
              "      <td>no</td>\n",
              "      <td>no</td>\n",
              "      <td>India</td>\n",
              "      <td>no</td>\n",
              "      <td>0</td>\n",
              "      <td>18 and more</td>\n",
              "      <td>Self</td>\n",
              "      <td>0</td>\n",
              "    </tr>\n",
              "    <tr>\n",
              "      <th>2</th>\n",
              "      <td>2</td>\n",
              "      <td>1</td>\n",
              "      <td>1</td>\n",
              "      <td>1</td>\n",
              "      <td>1</td>\n",
              "      <td>1</td>\n",
              "      <td>1</td>\n",
              "      <td>1</td>\n",
              "      <td>1</td>\n",
              "      <td>1</td>\n",
              "      <td>...</td>\n",
              "      <td>m</td>\n",
              "      <td>White-European</td>\n",
              "      <td>no</td>\n",
              "      <td>yes</td>\n",
              "      <td>United States</td>\n",
              "      <td>no</td>\n",
              "      <td>10</td>\n",
              "      <td>18 and more</td>\n",
              "      <td>Self</td>\n",
              "      <td>1</td>\n",
              "    </tr>\n",
              "    <tr>\n",
              "      <th>3</th>\n",
              "      <td>3</td>\n",
              "      <td>0</td>\n",
              "      <td>0</td>\n",
              "      <td>0</td>\n",
              "      <td>0</td>\n",
              "      <td>0</td>\n",
              "      <td>0</td>\n",
              "      <td>0</td>\n",
              "      <td>0</td>\n",
              "      <td>0</td>\n",
              "      <td>...</td>\n",
              "      <td>f</td>\n",
              "      <td>Unkown</td>\n",
              "      <td>no</td>\n",
              "      <td>no</td>\n",
              "      <td>United States</td>\n",
              "      <td>no</td>\n",
              "      <td>0</td>\n",
              "      <td>18 and more</td>\n",
              "      <td>Self</td>\n",
              "      <td>0</td>\n",
              "    </tr>\n",
              "    <tr>\n",
              "      <th>4</th>\n",
              "      <td>4</td>\n",
              "      <td>0</td>\n",
              "      <td>0</td>\n",
              "      <td>0</td>\n",
              "      <td>0</td>\n",
              "      <td>0</td>\n",
              "      <td>0</td>\n",
              "      <td>0</td>\n",
              "      <td>0</td>\n",
              "      <td>0</td>\n",
              "      <td>...</td>\n",
              "      <td>m</td>\n",
              "      <td>Unkown</td>\n",
              "      <td>no</td>\n",
              "      <td>no</td>\n",
              "      <td>South Africa</td>\n",
              "      <td>no</td>\n",
              "      <td>0</td>\n",
              "      <td>18 and more</td>\n",
              "      <td>Self</td>\n",
              "      <td>0</td>\n",
              "    </tr>\n",
              "    <tr>\n",
              "      <th>...</th>\n",
              "      <td>...</td>\n",
              "      <td>...</td>\n",
              "      <td>...</td>\n",
              "      <td>...</td>\n",
              "      <td>...</td>\n",
              "      <td>...</td>\n",
              "      <td>...</td>\n",
              "      <td>...</td>\n",
              "      <td>...</td>\n",
              "      <td>...</td>\n",
              "      <td>...</td>\n",
              "      <td>...</td>\n",
              "      <td>...</td>\n",
              "      <td>...</td>\n",
              "      <td>...</td>\n",
              "      <td>...</td>\n",
              "      <td>...</td>\n",
              "      <td>...</td>\n",
              "      <td>...</td>\n",
              "      <td>...</td>\n",
              "      <td>...</td>\n",
              "    </tr>\n",
              "    <tr>\n",
              "      <th>2089</th>\n",
              "      <td>2089</td>\n",
              "      <td>1</td>\n",
              "      <td>1</td>\n",
              "      <td>0</td>\n",
              "      <td>1</td>\n",
              "      <td>0</td>\n",
              "      <td>0</td>\n",
              "      <td>0</td>\n",
              "      <td>1</td>\n",
              "      <td>0</td>\n",
              "      <td>...</td>\n",
              "      <td>m</td>\n",
              "      <td>Latino</td>\n",
              "      <td>yes</td>\n",
              "      <td>yes</td>\n",
              "      <td>Costa Rica</td>\n",
              "      <td>no</td>\n",
              "      <td>5</td>\n",
              "      <td>18 and more</td>\n",
              "      <td>Parent</td>\n",
              "      <td>0</td>\n",
              "    </tr>\n",
              "    <tr>\n",
              "      <th>2090</th>\n",
              "      <td>2090</td>\n",
              "      <td>1</td>\n",
              "      <td>0</td>\n",
              "      <td>0</td>\n",
              "      <td>0</td>\n",
              "      <td>0</td>\n",
              "      <td>0</td>\n",
              "      <td>0</td>\n",
              "      <td>1</td>\n",
              "      <td>0</td>\n",
              "      <td>...</td>\n",
              "      <td>m</td>\n",
              "      <td>Hispanic</td>\n",
              "      <td>no</td>\n",
              "      <td>no</td>\n",
              "      <td>United States</td>\n",
              "      <td>no</td>\n",
              "      <td>3</td>\n",
              "      <td>18 and more</td>\n",
              "      <td>Self</td>\n",
              "      <td>0</td>\n",
              "    </tr>\n",
              "    <tr>\n",
              "      <th>2091</th>\n",
              "      <td>2091</td>\n",
              "      <td>1</td>\n",
              "      <td>0</td>\n",
              "      <td>0</td>\n",
              "      <td>0</td>\n",
              "      <td>0</td>\n",
              "      <td>0</td>\n",
              "      <td>0</td>\n",
              "      <td>1</td>\n",
              "      <td>0</td>\n",
              "      <td>...</td>\n",
              "      <td>f</td>\n",
              "      <td>Asian</td>\n",
              "      <td>no</td>\n",
              "      <td>no</td>\n",
              "      <td>United Kingdom</td>\n",
              "      <td>no</td>\n",
              "      <td>2</td>\n",
              "      <td>18 and more</td>\n",
              "      <td>Self</td>\n",
              "      <td>0</td>\n",
              "    </tr>\n",
              "    <tr>\n",
              "      <th>2092</th>\n",
              "      <td>2092</td>\n",
              "      <td>0</td>\n",
              "      <td>1</td>\n",
              "      <td>0</td>\n",
              "      <td>1</td>\n",
              "      <td>0</td>\n",
              "      <td>0</td>\n",
              "      <td>0</td>\n",
              "      <td>1</td>\n",
              "      <td>0</td>\n",
              "      <td>...</td>\n",
              "      <td>m</td>\n",
              "      <td>White-European</td>\n",
              "      <td>no</td>\n",
              "      <td>yes</td>\n",
              "      <td>United Kingdom</td>\n",
              "      <td>no</td>\n",
              "      <td>3</td>\n",
              "      <td>18 and more</td>\n",
              "      <td>Self</td>\n",
              "      <td>0</td>\n",
              "    </tr>\n",
              "    <tr>\n",
              "      <th>2093</th>\n",
              "      <td>2093</td>\n",
              "      <td>1</td>\n",
              "      <td>0</td>\n",
              "      <td>1</td>\n",
              "      <td>1</td>\n",
              "      <td>1</td>\n",
              "      <td>1</td>\n",
              "      <td>1</td>\n",
              "      <td>1</td>\n",
              "      <td>1</td>\n",
              "      <td>...</td>\n",
              "      <td>f</td>\n",
              "      <td>White-European</td>\n",
              "      <td>no</td>\n",
              "      <td>no</td>\n",
              "      <td>United States</td>\n",
              "      <td>no</td>\n",
              "      <td>9</td>\n",
              "      <td>18 and more</td>\n",
              "      <td>Self</td>\n",
              "      <td>1</td>\n",
              "    </tr>\n",
              "  </tbody>\n",
              "</table>\n",
              "<p>2094 rows × 22 columns</p>\n",
              "</div>\n",
              "    <div class=\"colab-df-buttons\">\n",
              "\n",
              "  <div class=\"colab-df-container\">\n",
              "    <button class=\"colab-df-convert\" onclick=\"convertToInteractive('df-3361d332-a7de-45b8-a240-6d2840ac7120')\"\n",
              "            title=\"Convert this dataframe to an interactive table.\"\n",
              "            style=\"display:none;\">\n",
              "\n",
              "  <svg xmlns=\"http://www.w3.org/2000/svg\" height=\"24px\" viewBox=\"0 -960 960 960\">\n",
              "    <path d=\"M120-120v-720h720v720H120Zm60-500h600v-160H180v160Zm220 220h160v-160H400v160Zm0 220h160v-160H400v160ZM180-400h160v-160H180v160Zm440 0h160v-160H620v160ZM180-180h160v-160H180v160Zm440 0h160v-160H620v160Z\"/>\n",
              "  </svg>\n",
              "    </button>\n",
              "\n",
              "  <style>\n",
              "    .colab-df-container {\n",
              "      display:flex;\n",
              "      gap: 12px;\n",
              "    }\n",
              "\n",
              "    .colab-df-convert {\n",
              "      background-color: #E8F0FE;\n",
              "      border: none;\n",
              "      border-radius: 50%;\n",
              "      cursor: pointer;\n",
              "      display: none;\n",
              "      fill: #1967D2;\n",
              "      height: 32px;\n",
              "      padding: 0 0 0 0;\n",
              "      width: 32px;\n",
              "    }\n",
              "\n",
              "    .colab-df-convert:hover {\n",
              "      background-color: #E2EBFA;\n",
              "      box-shadow: 0px 1px 2px rgba(60, 64, 67, 0.3), 0px 1px 3px 1px rgba(60, 64, 67, 0.15);\n",
              "      fill: #174EA6;\n",
              "    }\n",
              "\n",
              "    .colab-df-buttons div {\n",
              "      margin-bottom: 4px;\n",
              "    }\n",
              "\n",
              "    [theme=dark] .colab-df-convert {\n",
              "      background-color: #3B4455;\n",
              "      fill: #D2E3FC;\n",
              "    }\n",
              "\n",
              "    [theme=dark] .colab-df-convert:hover {\n",
              "      background-color: #434B5C;\n",
              "      box-shadow: 0px 1px 3px 1px rgba(0, 0, 0, 0.15);\n",
              "      filter: drop-shadow(0px 1px 2px rgba(0, 0, 0, 0.3));\n",
              "      fill: #FFFFFF;\n",
              "    }\n",
              "  </style>\n",
              "\n",
              "    <script>\n",
              "      const buttonEl =\n",
              "        document.querySelector('#df-3361d332-a7de-45b8-a240-6d2840ac7120 button.colab-df-convert');\n",
              "      buttonEl.style.display =\n",
              "        google.colab.kernel.accessAllowed ? 'block' : 'none';\n",
              "\n",
              "      async function convertToInteractive(key) {\n",
              "        const element = document.querySelector('#df-3361d332-a7de-45b8-a240-6d2840ac7120');\n",
              "        const dataTable =\n",
              "          await google.colab.kernel.invokeFunction('convertToInteractive',\n",
              "                                                    [key], {});\n",
              "        if (!dataTable) return;\n",
              "\n",
              "        const docLinkHtml = 'Like what you see? Visit the ' +\n",
              "          '<a target=\"_blank\" href=https://colab.research.google.com/notebooks/data_table.ipynb>data table notebook</a>'\n",
              "          + ' to learn more about interactive tables.';\n",
              "        element.innerHTML = '';\n",
              "        dataTable['output_type'] = 'display_data';\n",
              "        await google.colab.output.renderOutput(dataTable, element);\n",
              "        const docLink = document.createElement('div');\n",
              "        docLink.innerHTML = docLinkHtml;\n",
              "        element.appendChild(docLink);\n",
              "      }\n",
              "    </script>\n",
              "  </div>\n",
              "\n",
              "\n",
              "<div id=\"df-51e0c314-26fd-4f3a-8bc6-834080c2382b\">\n",
              "  <button class=\"colab-df-quickchart\" onclick=\"quickchart('df-51e0c314-26fd-4f3a-8bc6-834080c2382b')\"\n",
              "            title=\"Suggest charts.\"\n",
              "            style=\"display:none;\">\n",
              "\n",
              "<svg xmlns=\"http://www.w3.org/2000/svg\" height=\"24px\"viewBox=\"0 0 24 24\"\n",
              "     width=\"24px\">\n",
              "    <g>\n",
              "        <path d=\"M19 3H5c-1.1 0-2 .9-2 2v14c0 1.1.9 2 2 2h14c1.1 0 2-.9 2-2V5c0-1.1-.9-2-2-2zM9 17H7v-7h2v7zm4 0h-2V7h2v10zm4 0h-2v-4h2v4z\"/>\n",
              "    </g>\n",
              "</svg>\n",
              "  </button>\n",
              "\n",
              "<style>\n",
              "  .colab-df-quickchart {\n",
              "    background-color: #E8F0FE;\n",
              "    border: none;\n",
              "    border-radius: 50%;\n",
              "    cursor: pointer;\n",
              "    display: none;\n",
              "    fill: #1967D2;\n",
              "    height: 32px;\n",
              "    padding: 0 0 0 0;\n",
              "    width: 32px;\n",
              "  }\n",
              "\n",
              "  .colab-df-quickchart:hover {\n",
              "    background-color: #E2EBFA;\n",
              "    box-shadow: 0px 1px 2px rgba(60, 64, 67, 0.3), 0px 1px 3px 1px rgba(60, 64, 67, 0.15);\n",
              "    fill: #174EA6;\n",
              "  }\n",
              "\n",
              "  [theme=dark] .colab-df-quickchart {\n",
              "    background-color: #3B4455;\n",
              "    fill: #D2E3FC;\n",
              "  }\n",
              "\n",
              "  [theme=dark] .colab-df-quickchart:hover {\n",
              "    background-color: #434B5C;\n",
              "    box-shadow: 0px 1px 3px 1px rgba(0, 0, 0, 0.15);\n",
              "    filter: drop-shadow(0px 1px 2px rgba(0, 0, 0, 0.3));\n",
              "    fill: #FFFFFF;\n",
              "  }\n",
              "</style>\n",
              "\n",
              "  <script>\n",
              "    async function quickchart(key) {\n",
              "      const charts = await google.colab.kernel.invokeFunction(\n",
              "          'suggestCharts', [key], {});\n",
              "    }\n",
              "    (() => {\n",
              "      let quickchartButtonEl =\n",
              "        document.querySelector('#df-51e0c314-26fd-4f3a-8bc6-834080c2382b button');\n",
              "      quickchartButtonEl.style.display =\n",
              "        google.colab.kernel.accessAllowed ? 'block' : 'none';\n",
              "    })();\n",
              "  </script>\n",
              "</div>\n",
              "    </div>\n",
              "  </div>\n"
            ]
          },
          "metadata": {},
          "execution_count": 4
        }
      ]
    },
    {
      "cell_type": "code",
      "source": [
        "asd = asd.sample(frac=1)"
      ],
      "metadata": {
        "id": "fWnbavUtWOIc"
      },
      "execution_count": 5,
      "outputs": []
    },
    {
      "cell_type": "code",
      "source": [
        "asd.head()"
      ],
      "metadata": {
        "colab": {
          "base_uri": "https://localhost:8080/",
          "height": 359
        },
        "id": "uyb2QcBuqyLc",
        "outputId": "0eb07a53-2e2e-4b1d-e161-8468828c08dd"
      },
      "execution_count": 6,
      "outputs": [
        {
          "output_type": "execute_result",
          "data": {
            "text/plain": [
              "      Unnamed: 0  A1_Score  A2_Score  A3_Score  A4_Score  A5_Score  A6_Score  \\\n",
              "662          662         1         1         1         0         0         1   \n",
              "756          756         0         1         1         1         1         1   \n",
              "1955        1955         1         1         1         1         1         1   \n",
              "1290        1290         1         1         1         1         1         0   \n",
              "767          767         1         1         1         1         1         1   \n",
              "\n",
              "      A7_Score  A8_Score  A9_Score  ...  gender       ethnicity jaundice  \\\n",
              "662          0         1         1  ...       m           Asian       no   \n",
              "756          1         1         1  ...       f  White-European      yes   \n",
              "1955         0         1         1  ...       f           Asian       no   \n",
              "1290         0         1         1  ...       f  White-European       no   \n",
              "767          1         1         1  ...       m  White-European      yes   \n",
              "\n",
              "     austim   contry_of_res used_app_before result     age_desc  \\\n",
              "662      no         Burundi              no      7  18 and more   \n",
              "756     yes  United Kingdom              no      9  18 and more   \n",
              "1955     no           China              no      9  18 and more   \n",
              "1290    yes          Sweden              no      8  18 and more   \n",
              "767     yes  United Kingdom              no     10  18 and more   \n",
              "\n",
              "                      relation Class/ASD  \n",
              "662   Health care professional         1  \n",
              "756                       Self         1  \n",
              "1955                      Self         1  \n",
              "1290                      Self         1  \n",
              "767                       Self         0  \n",
              "\n",
              "[5 rows x 22 columns]"
            ],
            "text/html": [
              "\n",
              "  <div id=\"df-5a8d7442-7735-4bf3-a249-47f5d8027b89\" class=\"colab-df-container\">\n",
              "    <div>\n",
              "<style scoped>\n",
              "    .dataframe tbody tr th:only-of-type {\n",
              "        vertical-align: middle;\n",
              "    }\n",
              "\n",
              "    .dataframe tbody tr th {\n",
              "        vertical-align: top;\n",
              "    }\n",
              "\n",
              "    .dataframe thead th {\n",
              "        text-align: right;\n",
              "    }\n",
              "</style>\n",
              "<table border=\"1\" class=\"dataframe\">\n",
              "  <thead>\n",
              "    <tr style=\"text-align: right;\">\n",
              "      <th></th>\n",
              "      <th>Unnamed: 0</th>\n",
              "      <th>A1_Score</th>\n",
              "      <th>A2_Score</th>\n",
              "      <th>A3_Score</th>\n",
              "      <th>A4_Score</th>\n",
              "      <th>A5_Score</th>\n",
              "      <th>A6_Score</th>\n",
              "      <th>A7_Score</th>\n",
              "      <th>A8_Score</th>\n",
              "      <th>A9_Score</th>\n",
              "      <th>...</th>\n",
              "      <th>gender</th>\n",
              "      <th>ethnicity</th>\n",
              "      <th>jaundice</th>\n",
              "      <th>austim</th>\n",
              "      <th>contry_of_res</th>\n",
              "      <th>used_app_before</th>\n",
              "      <th>result</th>\n",
              "      <th>age_desc</th>\n",
              "      <th>relation</th>\n",
              "      <th>Class/ASD</th>\n",
              "    </tr>\n",
              "  </thead>\n",
              "  <tbody>\n",
              "    <tr>\n",
              "      <th>662</th>\n",
              "      <td>662</td>\n",
              "      <td>1</td>\n",
              "      <td>1</td>\n",
              "      <td>1</td>\n",
              "      <td>0</td>\n",
              "      <td>0</td>\n",
              "      <td>1</td>\n",
              "      <td>0</td>\n",
              "      <td>1</td>\n",
              "      <td>1</td>\n",
              "      <td>...</td>\n",
              "      <td>m</td>\n",
              "      <td>Asian</td>\n",
              "      <td>no</td>\n",
              "      <td>no</td>\n",
              "      <td>Burundi</td>\n",
              "      <td>no</td>\n",
              "      <td>7</td>\n",
              "      <td>18 and more</td>\n",
              "      <td>Health care professional</td>\n",
              "      <td>1</td>\n",
              "    </tr>\n",
              "    <tr>\n",
              "      <th>756</th>\n",
              "      <td>756</td>\n",
              "      <td>0</td>\n",
              "      <td>1</td>\n",
              "      <td>1</td>\n",
              "      <td>1</td>\n",
              "      <td>1</td>\n",
              "      <td>1</td>\n",
              "      <td>1</td>\n",
              "      <td>1</td>\n",
              "      <td>1</td>\n",
              "      <td>...</td>\n",
              "      <td>f</td>\n",
              "      <td>White-European</td>\n",
              "      <td>yes</td>\n",
              "      <td>yes</td>\n",
              "      <td>United Kingdom</td>\n",
              "      <td>no</td>\n",
              "      <td>9</td>\n",
              "      <td>18 and more</td>\n",
              "      <td>Self</td>\n",
              "      <td>1</td>\n",
              "    </tr>\n",
              "    <tr>\n",
              "      <th>1955</th>\n",
              "      <td>1955</td>\n",
              "      <td>1</td>\n",
              "      <td>1</td>\n",
              "      <td>1</td>\n",
              "      <td>1</td>\n",
              "      <td>1</td>\n",
              "      <td>1</td>\n",
              "      <td>0</td>\n",
              "      <td>1</td>\n",
              "      <td>1</td>\n",
              "      <td>...</td>\n",
              "      <td>f</td>\n",
              "      <td>Asian</td>\n",
              "      <td>no</td>\n",
              "      <td>no</td>\n",
              "      <td>China</td>\n",
              "      <td>no</td>\n",
              "      <td>9</td>\n",
              "      <td>18 and more</td>\n",
              "      <td>Self</td>\n",
              "      <td>1</td>\n",
              "    </tr>\n",
              "    <tr>\n",
              "      <th>1290</th>\n",
              "      <td>1290</td>\n",
              "      <td>1</td>\n",
              "      <td>1</td>\n",
              "      <td>1</td>\n",
              "      <td>1</td>\n",
              "      <td>1</td>\n",
              "      <td>0</td>\n",
              "      <td>0</td>\n",
              "      <td>1</td>\n",
              "      <td>1</td>\n",
              "      <td>...</td>\n",
              "      <td>f</td>\n",
              "      <td>White-European</td>\n",
              "      <td>no</td>\n",
              "      <td>yes</td>\n",
              "      <td>Sweden</td>\n",
              "      <td>no</td>\n",
              "      <td>8</td>\n",
              "      <td>18 and more</td>\n",
              "      <td>Self</td>\n",
              "      <td>1</td>\n",
              "    </tr>\n",
              "    <tr>\n",
              "      <th>767</th>\n",
              "      <td>767</td>\n",
              "      <td>1</td>\n",
              "      <td>1</td>\n",
              "      <td>1</td>\n",
              "      <td>1</td>\n",
              "      <td>1</td>\n",
              "      <td>1</td>\n",
              "      <td>1</td>\n",
              "      <td>1</td>\n",
              "      <td>1</td>\n",
              "      <td>...</td>\n",
              "      <td>m</td>\n",
              "      <td>White-European</td>\n",
              "      <td>yes</td>\n",
              "      <td>yes</td>\n",
              "      <td>United Kingdom</td>\n",
              "      <td>no</td>\n",
              "      <td>10</td>\n",
              "      <td>18 and more</td>\n",
              "      <td>Self</td>\n",
              "      <td>0</td>\n",
              "    </tr>\n",
              "  </tbody>\n",
              "</table>\n",
              "<p>5 rows × 22 columns</p>\n",
              "</div>\n",
              "    <div class=\"colab-df-buttons\">\n",
              "\n",
              "  <div class=\"colab-df-container\">\n",
              "    <button class=\"colab-df-convert\" onclick=\"convertToInteractive('df-5a8d7442-7735-4bf3-a249-47f5d8027b89')\"\n",
              "            title=\"Convert this dataframe to an interactive table.\"\n",
              "            style=\"display:none;\">\n",
              "\n",
              "  <svg xmlns=\"http://www.w3.org/2000/svg\" height=\"24px\" viewBox=\"0 -960 960 960\">\n",
              "    <path d=\"M120-120v-720h720v720H120Zm60-500h600v-160H180v160Zm220 220h160v-160H400v160Zm0 220h160v-160H400v160ZM180-400h160v-160H180v160Zm440 0h160v-160H620v160ZM180-180h160v-160H180v160Zm440 0h160v-160H620v160Z\"/>\n",
              "  </svg>\n",
              "    </button>\n",
              "\n",
              "  <style>\n",
              "    .colab-df-container {\n",
              "      display:flex;\n",
              "      gap: 12px;\n",
              "    }\n",
              "\n",
              "    .colab-df-convert {\n",
              "      background-color: #E8F0FE;\n",
              "      border: none;\n",
              "      border-radius: 50%;\n",
              "      cursor: pointer;\n",
              "      display: none;\n",
              "      fill: #1967D2;\n",
              "      height: 32px;\n",
              "      padding: 0 0 0 0;\n",
              "      width: 32px;\n",
              "    }\n",
              "\n",
              "    .colab-df-convert:hover {\n",
              "      background-color: #E2EBFA;\n",
              "      box-shadow: 0px 1px 2px rgba(60, 64, 67, 0.3), 0px 1px 3px 1px rgba(60, 64, 67, 0.15);\n",
              "      fill: #174EA6;\n",
              "    }\n",
              "\n",
              "    .colab-df-buttons div {\n",
              "      margin-bottom: 4px;\n",
              "    }\n",
              "\n",
              "    [theme=dark] .colab-df-convert {\n",
              "      background-color: #3B4455;\n",
              "      fill: #D2E3FC;\n",
              "    }\n",
              "\n",
              "    [theme=dark] .colab-df-convert:hover {\n",
              "      background-color: #434B5C;\n",
              "      box-shadow: 0px 1px 3px 1px rgba(0, 0, 0, 0.15);\n",
              "      filter: drop-shadow(0px 1px 2px rgba(0, 0, 0, 0.3));\n",
              "      fill: #FFFFFF;\n",
              "    }\n",
              "  </style>\n",
              "\n",
              "    <script>\n",
              "      const buttonEl =\n",
              "        document.querySelector('#df-5a8d7442-7735-4bf3-a249-47f5d8027b89 button.colab-df-convert');\n",
              "      buttonEl.style.display =\n",
              "        google.colab.kernel.accessAllowed ? 'block' : 'none';\n",
              "\n",
              "      async function convertToInteractive(key) {\n",
              "        const element = document.querySelector('#df-5a8d7442-7735-4bf3-a249-47f5d8027b89');\n",
              "        const dataTable =\n",
              "          await google.colab.kernel.invokeFunction('convertToInteractive',\n",
              "                                                    [key], {});\n",
              "        if (!dataTable) return;\n",
              "\n",
              "        const docLinkHtml = 'Like what you see? Visit the ' +\n",
              "          '<a target=\"_blank\" href=https://colab.research.google.com/notebooks/data_table.ipynb>data table notebook</a>'\n",
              "          + ' to learn more about interactive tables.';\n",
              "        element.innerHTML = '';\n",
              "        dataTable['output_type'] = 'display_data';\n",
              "        await google.colab.output.renderOutput(dataTable, element);\n",
              "        const docLink = document.createElement('div');\n",
              "        docLink.innerHTML = docLinkHtml;\n",
              "        element.appendChild(docLink);\n",
              "      }\n",
              "    </script>\n",
              "  </div>\n",
              "\n",
              "\n",
              "<div id=\"df-8de2790b-5167-403b-b50f-d8de5af4f073\">\n",
              "  <button class=\"colab-df-quickchart\" onclick=\"quickchart('df-8de2790b-5167-403b-b50f-d8de5af4f073')\"\n",
              "            title=\"Suggest charts.\"\n",
              "            style=\"display:none;\">\n",
              "\n",
              "<svg xmlns=\"http://www.w3.org/2000/svg\" height=\"24px\"viewBox=\"0 0 24 24\"\n",
              "     width=\"24px\">\n",
              "    <g>\n",
              "        <path d=\"M19 3H5c-1.1 0-2 .9-2 2v14c0 1.1.9 2 2 2h14c1.1 0 2-.9 2-2V5c0-1.1-.9-2-2-2zM9 17H7v-7h2v7zm4 0h-2V7h2v10zm4 0h-2v-4h2v4z\"/>\n",
              "    </g>\n",
              "</svg>\n",
              "  </button>\n",
              "\n",
              "<style>\n",
              "  .colab-df-quickchart {\n",
              "    background-color: #E8F0FE;\n",
              "    border: none;\n",
              "    border-radius: 50%;\n",
              "    cursor: pointer;\n",
              "    display: none;\n",
              "    fill: #1967D2;\n",
              "    height: 32px;\n",
              "    padding: 0 0 0 0;\n",
              "    width: 32px;\n",
              "  }\n",
              "\n",
              "  .colab-df-quickchart:hover {\n",
              "    background-color: #E2EBFA;\n",
              "    box-shadow: 0px 1px 2px rgba(60, 64, 67, 0.3), 0px 1px 3px 1px rgba(60, 64, 67, 0.15);\n",
              "    fill: #174EA6;\n",
              "  }\n",
              "\n",
              "  [theme=dark] .colab-df-quickchart {\n",
              "    background-color: #3B4455;\n",
              "    fill: #D2E3FC;\n",
              "  }\n",
              "\n",
              "  [theme=dark] .colab-df-quickchart:hover {\n",
              "    background-color: #434B5C;\n",
              "    box-shadow: 0px 1px 3px 1px rgba(0, 0, 0, 0.15);\n",
              "    filter: drop-shadow(0px 1px 2px rgba(0, 0, 0, 0.3));\n",
              "    fill: #FFFFFF;\n",
              "  }\n",
              "</style>\n",
              "\n",
              "  <script>\n",
              "    async function quickchart(key) {\n",
              "      const charts = await google.colab.kernel.invokeFunction(\n",
              "          'suggestCharts', [key], {});\n",
              "    }\n",
              "    (() => {\n",
              "      let quickchartButtonEl =\n",
              "        document.querySelector('#df-8de2790b-5167-403b-b50f-d8de5af4f073 button');\n",
              "      quickchartButtonEl.style.display =\n",
              "        google.colab.kernel.accessAllowed ? 'block' : 'none';\n",
              "    })();\n",
              "  </script>\n",
              "</div>\n",
              "    </div>\n",
              "  </div>\n"
            ]
          },
          "metadata": {},
          "execution_count": 6
        }
      ]
    },
    {
      "cell_type": "code",
      "source": [
        "asd.describe()"
      ],
      "metadata": {
        "colab": {
          "base_uri": "https://localhost:8080/",
          "height": 320
        },
        "id": "QfWCgQKKq20r",
        "outputId": "7234af3c-e2f0-40b6-d43d-4dcc9a631dfc"
      },
      "execution_count": 7,
      "outputs": [
        {
          "output_type": "execute_result",
          "data": {
            "text/plain": [
              "        Unnamed: 0     A1_Score     A2_Score     A3_Score     A4_Score  \\\n",
              "count  2094.000000  2094.000000  2094.000000  2094.000000  2094.000000   \n",
              "mean   1046.500000     0.645177     0.494269     0.503820     0.482808   \n",
              "std     604.630052     0.478574     0.500087     0.500105     0.499824   \n",
              "min       0.000000     0.000000     0.000000     0.000000     0.000000   \n",
              "25%     523.250000     0.000000     0.000000     0.000000     0.000000   \n",
              "50%    1046.500000     1.000000     0.000000     1.000000     0.000000   \n",
              "75%    1569.750000     1.000000     1.000000     1.000000     1.000000   \n",
              "max    2093.000000     1.000000     1.000000     1.000000     1.000000   \n",
              "\n",
              "          A5_Score     A6_Score     A7_Score     A8_Score     A9_Score  \\\n",
              "count  2094.000000  2094.000000  2094.000000  2094.000000  2094.000000   \n",
              "mean      0.506686     0.379656     0.440306     0.577364     0.436008   \n",
              "std       0.500075     0.485417     0.496542     0.494097     0.496007   \n",
              "min       0.000000     0.000000     0.000000     0.000000     0.000000   \n",
              "25%       0.000000     0.000000     0.000000     0.000000     0.000000   \n",
              "50%       1.000000     0.000000     0.000000     1.000000     0.000000   \n",
              "75%       1.000000     1.000000     1.000000     1.000000     1.000000   \n",
              "max       1.000000     1.000000     1.000000     1.000000     1.000000   \n",
              "\n",
              "         A10_Score       result    Class/ASD  \n",
              "count  2094.000000  2094.000000  2094.000000  \n",
              "mean      0.618434     5.084527     0.289398  \n",
              "std       0.485887     2.952081     0.453591  \n",
              "min       0.000000     0.000000     0.000000  \n",
              "25%       0.000000     3.000000     0.000000  \n",
              "50%       1.000000     5.000000     0.000000  \n",
              "75%       1.000000     8.000000     1.000000  \n",
              "max       1.000000    10.000000     1.000000  "
            ],
            "text/html": [
              "\n",
              "  <div id=\"df-d4fd683f-361d-465c-92e1-e041d59f7482\" class=\"colab-df-container\">\n",
              "    <div>\n",
              "<style scoped>\n",
              "    .dataframe tbody tr th:only-of-type {\n",
              "        vertical-align: middle;\n",
              "    }\n",
              "\n",
              "    .dataframe tbody tr th {\n",
              "        vertical-align: top;\n",
              "    }\n",
              "\n",
              "    .dataframe thead th {\n",
              "        text-align: right;\n",
              "    }\n",
              "</style>\n",
              "<table border=\"1\" class=\"dataframe\">\n",
              "  <thead>\n",
              "    <tr style=\"text-align: right;\">\n",
              "      <th></th>\n",
              "      <th>Unnamed: 0</th>\n",
              "      <th>A1_Score</th>\n",
              "      <th>A2_Score</th>\n",
              "      <th>A3_Score</th>\n",
              "      <th>A4_Score</th>\n",
              "      <th>A5_Score</th>\n",
              "      <th>A6_Score</th>\n",
              "      <th>A7_Score</th>\n",
              "      <th>A8_Score</th>\n",
              "      <th>A9_Score</th>\n",
              "      <th>A10_Score</th>\n",
              "      <th>result</th>\n",
              "      <th>Class/ASD</th>\n",
              "    </tr>\n",
              "  </thead>\n",
              "  <tbody>\n",
              "    <tr>\n",
              "      <th>count</th>\n",
              "      <td>2094.000000</td>\n",
              "      <td>2094.000000</td>\n",
              "      <td>2094.000000</td>\n",
              "      <td>2094.000000</td>\n",
              "      <td>2094.000000</td>\n",
              "      <td>2094.000000</td>\n",
              "      <td>2094.000000</td>\n",
              "      <td>2094.000000</td>\n",
              "      <td>2094.000000</td>\n",
              "      <td>2094.000000</td>\n",
              "      <td>2094.000000</td>\n",
              "      <td>2094.000000</td>\n",
              "      <td>2094.000000</td>\n",
              "    </tr>\n",
              "    <tr>\n",
              "      <th>mean</th>\n",
              "      <td>1046.500000</td>\n",
              "      <td>0.645177</td>\n",
              "      <td>0.494269</td>\n",
              "      <td>0.503820</td>\n",
              "      <td>0.482808</td>\n",
              "      <td>0.506686</td>\n",
              "      <td>0.379656</td>\n",
              "      <td>0.440306</td>\n",
              "      <td>0.577364</td>\n",
              "      <td>0.436008</td>\n",
              "      <td>0.618434</td>\n",
              "      <td>5.084527</td>\n",
              "      <td>0.289398</td>\n",
              "    </tr>\n",
              "    <tr>\n",
              "      <th>std</th>\n",
              "      <td>604.630052</td>\n",
              "      <td>0.478574</td>\n",
              "      <td>0.500087</td>\n",
              "      <td>0.500105</td>\n",
              "      <td>0.499824</td>\n",
              "      <td>0.500075</td>\n",
              "      <td>0.485417</td>\n",
              "      <td>0.496542</td>\n",
              "      <td>0.494097</td>\n",
              "      <td>0.496007</td>\n",
              "      <td>0.485887</td>\n",
              "      <td>2.952081</td>\n",
              "      <td>0.453591</td>\n",
              "    </tr>\n",
              "    <tr>\n",
              "      <th>min</th>\n",
              "      <td>0.000000</td>\n",
              "      <td>0.000000</td>\n",
              "      <td>0.000000</td>\n",
              "      <td>0.000000</td>\n",
              "      <td>0.000000</td>\n",
              "      <td>0.000000</td>\n",
              "      <td>0.000000</td>\n",
              "      <td>0.000000</td>\n",
              "      <td>0.000000</td>\n",
              "      <td>0.000000</td>\n",
              "      <td>0.000000</td>\n",
              "      <td>0.000000</td>\n",
              "      <td>0.000000</td>\n",
              "    </tr>\n",
              "    <tr>\n",
              "      <th>25%</th>\n",
              "      <td>523.250000</td>\n",
              "      <td>0.000000</td>\n",
              "      <td>0.000000</td>\n",
              "      <td>0.000000</td>\n",
              "      <td>0.000000</td>\n",
              "      <td>0.000000</td>\n",
              "      <td>0.000000</td>\n",
              "      <td>0.000000</td>\n",
              "      <td>0.000000</td>\n",
              "      <td>0.000000</td>\n",
              "      <td>0.000000</td>\n",
              "      <td>3.000000</td>\n",
              "      <td>0.000000</td>\n",
              "    </tr>\n",
              "    <tr>\n",
              "      <th>50%</th>\n",
              "      <td>1046.500000</td>\n",
              "      <td>1.000000</td>\n",
              "      <td>0.000000</td>\n",
              "      <td>1.000000</td>\n",
              "      <td>0.000000</td>\n",
              "      <td>1.000000</td>\n",
              "      <td>0.000000</td>\n",
              "      <td>0.000000</td>\n",
              "      <td>1.000000</td>\n",
              "      <td>0.000000</td>\n",
              "      <td>1.000000</td>\n",
              "      <td>5.000000</td>\n",
              "      <td>0.000000</td>\n",
              "    </tr>\n",
              "    <tr>\n",
              "      <th>75%</th>\n",
              "      <td>1569.750000</td>\n",
              "      <td>1.000000</td>\n",
              "      <td>1.000000</td>\n",
              "      <td>1.000000</td>\n",
              "      <td>1.000000</td>\n",
              "      <td>1.000000</td>\n",
              "      <td>1.000000</td>\n",
              "      <td>1.000000</td>\n",
              "      <td>1.000000</td>\n",
              "      <td>1.000000</td>\n",
              "      <td>1.000000</td>\n",
              "      <td>8.000000</td>\n",
              "      <td>1.000000</td>\n",
              "    </tr>\n",
              "    <tr>\n",
              "      <th>max</th>\n",
              "      <td>2093.000000</td>\n",
              "      <td>1.000000</td>\n",
              "      <td>1.000000</td>\n",
              "      <td>1.000000</td>\n",
              "      <td>1.000000</td>\n",
              "      <td>1.000000</td>\n",
              "      <td>1.000000</td>\n",
              "      <td>1.000000</td>\n",
              "      <td>1.000000</td>\n",
              "      <td>1.000000</td>\n",
              "      <td>1.000000</td>\n",
              "      <td>10.000000</td>\n",
              "      <td>1.000000</td>\n",
              "    </tr>\n",
              "  </tbody>\n",
              "</table>\n",
              "</div>\n",
              "    <div class=\"colab-df-buttons\">\n",
              "\n",
              "  <div class=\"colab-df-container\">\n",
              "    <button class=\"colab-df-convert\" onclick=\"convertToInteractive('df-d4fd683f-361d-465c-92e1-e041d59f7482')\"\n",
              "            title=\"Convert this dataframe to an interactive table.\"\n",
              "            style=\"display:none;\">\n",
              "\n",
              "  <svg xmlns=\"http://www.w3.org/2000/svg\" height=\"24px\" viewBox=\"0 -960 960 960\">\n",
              "    <path d=\"M120-120v-720h720v720H120Zm60-500h600v-160H180v160Zm220 220h160v-160H400v160Zm0 220h160v-160H400v160ZM180-400h160v-160H180v160Zm440 0h160v-160H620v160ZM180-180h160v-160H180v160Zm440 0h160v-160H620v160Z\"/>\n",
              "  </svg>\n",
              "    </button>\n",
              "\n",
              "  <style>\n",
              "    .colab-df-container {\n",
              "      display:flex;\n",
              "      gap: 12px;\n",
              "    }\n",
              "\n",
              "    .colab-df-convert {\n",
              "      background-color: #E8F0FE;\n",
              "      border: none;\n",
              "      border-radius: 50%;\n",
              "      cursor: pointer;\n",
              "      display: none;\n",
              "      fill: #1967D2;\n",
              "      height: 32px;\n",
              "      padding: 0 0 0 0;\n",
              "      width: 32px;\n",
              "    }\n",
              "\n",
              "    .colab-df-convert:hover {\n",
              "      background-color: #E2EBFA;\n",
              "      box-shadow: 0px 1px 2px rgba(60, 64, 67, 0.3), 0px 1px 3px 1px rgba(60, 64, 67, 0.15);\n",
              "      fill: #174EA6;\n",
              "    }\n",
              "\n",
              "    .colab-df-buttons div {\n",
              "      margin-bottom: 4px;\n",
              "    }\n",
              "\n",
              "    [theme=dark] .colab-df-convert {\n",
              "      background-color: #3B4455;\n",
              "      fill: #D2E3FC;\n",
              "    }\n",
              "\n",
              "    [theme=dark] .colab-df-convert:hover {\n",
              "      background-color: #434B5C;\n",
              "      box-shadow: 0px 1px 3px 1px rgba(0, 0, 0, 0.15);\n",
              "      filter: drop-shadow(0px 1px 2px rgba(0, 0, 0, 0.3));\n",
              "      fill: #FFFFFF;\n",
              "    }\n",
              "  </style>\n",
              "\n",
              "    <script>\n",
              "      const buttonEl =\n",
              "        document.querySelector('#df-d4fd683f-361d-465c-92e1-e041d59f7482 button.colab-df-convert');\n",
              "      buttonEl.style.display =\n",
              "        google.colab.kernel.accessAllowed ? 'block' : 'none';\n",
              "\n",
              "      async function convertToInteractive(key) {\n",
              "        const element = document.querySelector('#df-d4fd683f-361d-465c-92e1-e041d59f7482');\n",
              "        const dataTable =\n",
              "          await google.colab.kernel.invokeFunction('convertToInteractive',\n",
              "                                                    [key], {});\n",
              "        if (!dataTable) return;\n",
              "\n",
              "        const docLinkHtml = 'Like what you see? Visit the ' +\n",
              "          '<a target=\"_blank\" href=https://colab.research.google.com/notebooks/data_table.ipynb>data table notebook</a>'\n",
              "          + ' to learn more about interactive tables.';\n",
              "        element.innerHTML = '';\n",
              "        dataTable['output_type'] = 'display_data';\n",
              "        await google.colab.output.renderOutput(dataTable, element);\n",
              "        const docLink = document.createElement('div');\n",
              "        docLink.innerHTML = docLinkHtml;\n",
              "        element.appendChild(docLink);\n",
              "      }\n",
              "    </script>\n",
              "  </div>\n",
              "\n",
              "\n",
              "<div id=\"df-542b63bf-c921-4355-94f3-635769357a94\">\n",
              "  <button class=\"colab-df-quickchart\" onclick=\"quickchart('df-542b63bf-c921-4355-94f3-635769357a94')\"\n",
              "            title=\"Suggest charts.\"\n",
              "            style=\"display:none;\">\n",
              "\n",
              "<svg xmlns=\"http://www.w3.org/2000/svg\" height=\"24px\"viewBox=\"0 0 24 24\"\n",
              "     width=\"24px\">\n",
              "    <g>\n",
              "        <path d=\"M19 3H5c-1.1 0-2 .9-2 2v14c0 1.1.9 2 2 2h14c1.1 0 2-.9 2-2V5c0-1.1-.9-2-2-2zM9 17H7v-7h2v7zm4 0h-2V7h2v10zm4 0h-2v-4h2v4z\"/>\n",
              "    </g>\n",
              "</svg>\n",
              "  </button>\n",
              "\n",
              "<style>\n",
              "  .colab-df-quickchart {\n",
              "    background-color: #E8F0FE;\n",
              "    border: none;\n",
              "    border-radius: 50%;\n",
              "    cursor: pointer;\n",
              "    display: none;\n",
              "    fill: #1967D2;\n",
              "    height: 32px;\n",
              "    padding: 0 0 0 0;\n",
              "    width: 32px;\n",
              "  }\n",
              "\n",
              "  .colab-df-quickchart:hover {\n",
              "    background-color: #E2EBFA;\n",
              "    box-shadow: 0px 1px 2px rgba(60, 64, 67, 0.3), 0px 1px 3px 1px rgba(60, 64, 67, 0.15);\n",
              "    fill: #174EA6;\n",
              "  }\n",
              "\n",
              "  [theme=dark] .colab-df-quickchart {\n",
              "    background-color: #3B4455;\n",
              "    fill: #D2E3FC;\n",
              "  }\n",
              "\n",
              "  [theme=dark] .colab-df-quickchart:hover {\n",
              "    background-color: #434B5C;\n",
              "    box-shadow: 0px 1px 3px 1px rgba(0, 0, 0, 0.15);\n",
              "    filter: drop-shadow(0px 1px 2px rgba(0, 0, 0, 0.3));\n",
              "    fill: #FFFFFF;\n",
              "  }\n",
              "</style>\n",
              "\n",
              "  <script>\n",
              "    async function quickchart(key) {\n",
              "      const charts = await google.colab.kernel.invokeFunction(\n",
              "          'suggestCharts', [key], {});\n",
              "    }\n",
              "    (() => {\n",
              "      let quickchartButtonEl =\n",
              "        document.querySelector('#df-542b63bf-c921-4355-94f3-635769357a94 button');\n",
              "      quickchartButtonEl.style.display =\n",
              "        google.colab.kernel.accessAllowed ? 'block' : 'none';\n",
              "    })();\n",
              "  </script>\n",
              "</div>\n",
              "    </div>\n",
              "  </div>\n"
            ]
          },
          "metadata": {},
          "execution_count": 7
        }
      ]
    },
    {
      "cell_type": "code",
      "source": [
        "asd.columns"
      ],
      "metadata": {
        "colab": {
          "base_uri": "https://localhost:8080/"
        },
        "id": "kZQJhfM4rEmw",
        "outputId": "813b530e-93c5-4aee-a675-9b9dad0f74a7"
      },
      "execution_count": 8,
      "outputs": [
        {
          "output_type": "execute_result",
          "data": {
            "text/plain": [
              "Index(['Unnamed: 0', 'A1_Score', 'A2_Score', 'A3_Score', 'A4_Score',\n",
              "       'A5_Score', 'A6_Score', 'A7_Score', 'A8_Score', 'A9_Score', 'A10_Score',\n",
              "       'age', 'gender', 'ethnicity', 'jaundice', 'austim', 'contry_of_res',\n",
              "       'used_app_before', 'result', 'age_desc', 'relation', 'Class/ASD'],\n",
              "      dtype='object')"
            ]
          },
          "metadata": {},
          "execution_count": 8
        }
      ]
    },
    {
      "cell_type": "code",
      "source": [
        "asd.drop(['age_desc', 'used_app_before'], axis = 1, inplace = True)\n",
        "asd_t.drop(['age_desc', 'used_app_before'], axis = 1, inplace = True)\n",
        "asd.columns"
      ],
      "metadata": {
        "colab": {
          "base_uri": "https://localhost:8080/"
        },
        "id": "sW5j9j-XrGXH",
        "outputId": "a9adc135-526d-4b6e-a846-9c4a9b99898e"
      },
      "execution_count": 9,
      "outputs": [
        {
          "output_type": "execute_result",
          "data": {
            "text/plain": [
              "Index(['Unnamed: 0', 'A1_Score', 'A2_Score', 'A3_Score', 'A4_Score',\n",
              "       'A5_Score', 'A6_Score', 'A7_Score', 'A8_Score', 'A9_Score', 'A10_Score',\n",
              "       'age', 'gender', 'ethnicity', 'jaundice', 'austim', 'contry_of_res',\n",
              "       'result', 'relation', 'Class/ASD'],\n",
              "      dtype='object')"
            ]
          },
          "metadata": {},
          "execution_count": 9
        }
      ]
    },
    {
      "cell_type": "code",
      "source": [
        "asd.dtypes"
      ],
      "metadata": {
        "colab": {
          "base_uri": "https://localhost:8080/"
        },
        "id": "xFwltQ40rvqv",
        "outputId": "7b5ab477-c1d0-4f51-d2d9-fecdcc561340"
      },
      "execution_count": 10,
      "outputs": [
        {
          "output_type": "execute_result",
          "data": {
            "text/plain": [
              "Unnamed: 0        int64\n",
              "A1_Score          int64\n",
              "A2_Score          int64\n",
              "A3_Score          int64\n",
              "A4_Score          int64\n",
              "A5_Score          int64\n",
              "A6_Score          int64\n",
              "A7_Score          int64\n",
              "A8_Score          int64\n",
              "A9_Score          int64\n",
              "A10_Score         int64\n",
              "age              object\n",
              "gender           object\n",
              "ethnicity        object\n",
              "jaundice         object\n",
              "austim           object\n",
              "contry_of_res    object\n",
              "result            int64\n",
              "relation         object\n",
              "Class/ASD         int64\n",
              "dtype: object"
            ]
          },
          "metadata": {},
          "execution_count": 10
        }
      ]
    },
    {
      "cell_type": "code",
      "source": [
        "sns.countplot(x='Class/ASD' , data=asd)"
      ],
      "metadata": {
        "colab": {
          "base_uri": "https://localhost:8080/",
          "height": 466
        },
        "id": "AYtUOxdprxSy",
        "outputId": "161c1d1b-643a-495a-bd6d-bc54d94dc4c3"
      },
      "execution_count": 11,
      "outputs": [
        {
          "output_type": "execute_result",
          "data": {
            "text/plain": [
              "<Axes: xlabel='Class/ASD', ylabel='count'>"
            ]
          },
          "metadata": {},
          "execution_count": 11
        },
        {
          "output_type": "display_data",
          "data": {
            "text/plain": [
              "<Figure size 640x480 with 1 Axes>"
            ],
            "image/png": "[encoded data removed]"
          },
          "metadata": {}
        }
      ]
    },
    {
      "cell_type": "code",
      "source": [
        "corr = asd.corr()\n",
        "plt.figure(figsize = (15,15))\n",
        "sns.heatmap(data = corr, annot = True, square = True, cbar = True)"
      ],
      "metadata": {
        "colab": {
          "base_uri": "https://localhost:8080/",
          "height": 1000
        },
        "id": "025__qAEMUkj",
        "outputId": "077cb09b-232b-41ae-91ba-42d059a76abc"
      },
      "execution_count": 12,
      "outputs": [
        {
          "output_type": "execute_result",
          "data": {
            "text/plain": [
              "<Axes: >"
            ]
          },
          "metadata": {},
          "execution_count": 12
        },
        {
          "output_type": "display_data",
          "data": {
            "text/plain": [
              "<Figure size 1500x1500 with 2 Axes>"
            ],
            "image/png": "[encoded data removed]"
          },
          "metadata": {}
        }
      ]
    },
    {
      "cell_type": "code",
      "source": [
        "sns.countplot(x='ethnicity',hue='gender',data=asd)\n",
        "plt.xticks(rotation=90)"
      ],
      "metadata": {
        "colab": {
          "base_uri": "https://localhost:8080/",
          "height": 774
        },
        "id": "MInwTikRMezg",
        "outputId": "5386a5b0-4ffd-480f-a8e4-5cac799c2986"
      },
      "execution_count": 13,
      "outputs": [
        {
          "output_type": "execute_result",
          "data": {
            "text/plain": [
              "(array([ 0,  1,  2,  3,  4,  5,  6,  7,  8,  9, 10, 11]),\n",
              " [Text(0, 0, 'Asian'),\n",
              "  Text(1, 0, 'White-European'),\n",
              "  Text(2, 0, 'South Asian'),\n",
              "  Text(3, 0, 'Others'),\n",
              "  Text(4, 0, 'Middle Eastern '),\n",
              "  Text(5, 0, 'Turkish'),\n",
              "  Text(6, 0, 'Hispanic'),\n",
              "  Text(7, 0, 'Black'),\n",
              "  Text(8, 0, 'Unkown'),\n",
              "  Text(9, 0, 'Pasifika'),\n",
              "  Text(10, 0, 'Latino'),\n",
              "  Text(11, 0, 'others')])"
            ]
          },
          "metadata": {},
          "execution_count": 13
        },
        {
          "output_type": "display_data",
          "data": {
            "text/plain": [
              "<Figure size 640x480 with 1 Axes>"
            ],
            "image/png": "[encoded data removed]"
          },
          "metadata": {}
        }
      ]
    },
    {
      "cell_type": "code",
      "source": [
        "plt.figure(figsize = (16,8))\n",
        "sns.countplot(x = 'ethnicity', data = asd)"
      ],
      "metadata": {
        "colab": {
          "base_uri": "https://localhost:8080/",
          "height": 609
        },
        "id": "hXqGxZV4MtXw",
        "outputId": "11103a45-593e-4fbe-8576-5d443217c1b3"
      },
      "execution_count": 14,
      "outputs": [
        {
          "output_type": "execute_result",
          "data": {
            "text/plain": [
              "<Axes: xlabel='ethnicity', ylabel='count'>"
            ]
          },
          "metadata": {},
          "execution_count": 14
        },
        {
          "output_type": "display_data",
          "data": {
            "text/plain": [
              "<Figure size 1600x800 with 1 Axes>"
            ],
            "image/png": "[encoded data removed]"
          },
          "metadata": {}
        }
      ]
    },
    {
      "cell_type": "code",
      "source": [
        "asd.columns"
      ],
      "metadata": {
        "colab": {
          "base_uri": "https://localhost:8080/"
        },
        "id": "85GXhz9OM3wD",
        "outputId": "b781ef47-d517-4345-f020-c8b511cb79c1"
      },
      "execution_count": 15,
      "outputs": [
        {
          "output_type": "execute_result",
          "data": {
            "text/plain": [
              "Index(['Unnamed: 0', 'A1_Score', 'A2_Score', 'A3_Score', 'A4_Score',\n",
              "       'A5_Score', 'A6_Score', 'A7_Score', 'A8_Score', 'A9_Score', 'A10_Score',\n",
              "       'age', 'gender', 'ethnicity', 'jaundice', 'austim', 'contry_of_res',\n",
              "       'result', 'relation', 'Class/ASD'],\n",
              "      dtype='object')"
            ]
          },
          "metadata": {},
          "execution_count": 15
        }
      ]
    },
    {
      "cell_type": "code",
      "source": [
        "asd.info()"
      ],
      "metadata": {
        "colab": {
          "base_uri": "https://localhost:8080/"
        },
        "id": "gK-xvZ8VNHDA",
        "outputId": "43ecdb85-861e-410d-c42a-e9d29f1420f2"
      },
      "execution_count": 16,
      "outputs": [
        {
          "output_type": "stream",
          "name": "stdout",
          "text": [
            "<class 'pandas.core.frame.DataFrame'>\n",
            "Int64Index: 2094 entries, 662 to 788\n",
            "Data columns (total 20 columns):\n",
            " #   Column         Non-Null Count  Dtype \n",
            "---  ------         --------------  ----- \n",
            " 0   Unnamed: 0     2094 non-null   int64 \n",
            " 1   A1_Score       2094 non-null   int64 \n",
            " 2   A2_Score       2094 non-null   int64 \n",
            " 3   A3_Score       2094 non-null   int64 \n",
            " 4   A4_Score       2094 non-null   int64 \n",
            " 5   A5_Score       2094 non-null   int64 \n",
            " 6   A6_Score       2094 non-null   int64 \n",
            " 7   A7_Score       2094 non-null   int64 \n",
            " 8   A8_Score       2094 non-null   int64 \n",
            " 9   A9_Score       2094 non-null   int64 \n",
            " 10  A10_Score      2094 non-null   int64 \n",
            " 11  age            2094 non-null   object\n",
            " 12  gender         2094 non-null   object\n",
            " 13  ethnicity      2094 non-null   object\n",
            " 14  jaundice       2094 non-null   object\n",
            " 15  austim         2094 non-null   object\n",
            " 16  contry_of_res  2094 non-null   object\n",
            " 17  result         2094 non-null   int64 \n",
            " 18  relation       2094 non-null   object\n",
            " 19  Class/ASD      2094 non-null   int64 \n",
            "dtypes: int64(13), object(7)\n",
            "memory usage: 343.5+ KB\n"
          ]
        }
      ]
    },
    {
      "cell_type": "code",
      "source": [
        "le = LabelEncoder()\n",
        "columns = ['ethnicity','contry_of_res', 'relation', 'Class/ASD', 'age', 'jaundice','gender','austim']\n",
        "columns_t = ['ethnicity','contry_of_res', 'relation', 'age', 'jaundice','gender','austim']\n",
        "for col in columns:\n",
        "    asd[col] = le.fit_transform(asd[col])\n",
        "for col in columns_t:\n",
        "    asd_t[col] = le.fit_transform(asd_t[col])\n",
        "asd.dtypes"
      ],
      "metadata": {
        "colab": {
          "base_uri": "https://localhost:8080/"
        },
        "id": "_MHegsq8NIb4",
        "outputId": "021ac1c0-a43c-42bd-aae4-5d2c7ed001a8"
      },
      "execution_count": 20,
      "outputs": [
        {
          "output_type": "execute_result",
          "data": {
            "text/plain": [
              "Unnamed: 0       int64\n",
              "A1_Score         int64\n",
              "A2_Score         int64\n",
              "A3_Score         int64\n",
              "A4_Score         int64\n",
              "A5_Score         int64\n",
              "A6_Score         int64\n",
              "A7_Score         int64\n",
              "A8_Score         int64\n",
              "A9_Score         int64\n",
              "A10_Score        int64\n",
              "age              int64\n",
              "gender           int64\n",
              "ethnicity        int64\n",
              "jaundice         int64\n",
              "austim           int64\n",
              "contry_of_res    int64\n",
              "result           int64\n",
              "relation         int64\n",
              "Class/ASD        int64\n",
              "dtype: object"
            ]
          },
          "metadata": {},
          "execution_count": 20
        }
      ]
    },
    {
      "cell_type": "code",
      "source": [
        "X= asd.drop(['Class/ASD'], axis = 1)\n",
        "Y= asd['Class/ASD']\n",
        "x_train, x_test, y_train, y_test = train_test_split(X, Y, test_size = 0.20, random_state = 7)\n",
        "print('Processed...')"
      ],
      "metadata": {
        "colab": {
          "base_uri": "https://localhost:8080/"
        },
        "id": "ffSHVqn1O_Z5",
        "outputId": "5c5ae8b8-d812-4110-a97a-be77c157ad77"
      },
      "execution_count": 22,
      "outputs": [
        {
          "output_type": "stream",
          "name": "stdout",
          "text": [
            "Processed...\n"
          ]
        }
      ]
    },
    {
      "cell_type": "code",
      "source": [
        "from sklearn.linear_model import LogisticRegression\n",
        "logreg = LogisticRegression()\n",
        "logreg.fit(x_train, y_train)\n",
        "preds = logreg.predict(x_test)\n",
        "logreg.score(x_train, y_train)"
      ],
      "metadata": {
        "colab": {
          "base_uri": "https://localhost:8080/"
        },
        "id": "yETyqFlwNkVK",
        "outputId": "612a4d51-ea39-4117-e9da-a244934aaf00"
      },
      "execution_count": 22,
      "outputs": [
        {
          "output_type": "execute_result",
          "data": {
            "text/plain": [
              "0.8764179104477612"
            ]
          },
          "metadata": {},
          "execution_count": 22
        }
      ]
    },
    {
      "cell_type": "code",
      "source": [
        "from sklearn.metrics import classification_report, confusion_matrix\n",
        "classification_report(y_test, preds)"
      ],
      "metadata": {
        "colab": {
          "base_uri": "https://localhost:8080/",
          "height": 70
        },
        "id": "VUjPSvxZPaVp",
        "outputId": "4476436d-fd4b-48bd-a266-69dc5c1192de"
      },
      "execution_count": 23,
      "outputs": [
        {
          "output_type": "execute_result",
          "data": {
            "text/plain": [
              "'              precision    recall  f1-score   support\\n\\n           0       0.91      0.92      0.91       296\\n           1       0.79      0.77      0.78       123\\n\\n    accuracy                           0.87       419\\n   macro avg       0.85      0.84      0.85       419\\nweighted avg       0.87      0.87      0.87       419\\n'"
            ],
            "application/vnd.google.colaboratory.intrinsic+json": {
              "type": "string"
            }
          },
          "metadata": {},
          "execution_count": 23
        }
      ]
    },
    {
      "cell_type": "code",
      "source": [
        "from sklearn.neighbors import KNeighborsClassifier\n",
        "knn = KNeighborsClassifier(n_neighbors=1)\n",
        "knn.fit(x_train, y_train)\n",
        "pred = knn.predict(x_test)\n",
        "classification_report(y_test, pred)"
      ],
      "metadata": {
        "colab": {
          "base_uri": "https://localhost:8080/",
          "height": 70
        },
        "id": "emdK1c3CPdsa",
        "outputId": "3c326680-1c74-4564-a0bf-037757087d4a"
      },
      "execution_count": 24,
      "outputs": [
        {
          "output_type": "execute_result",
          "data": {
            "text/plain": [
              "'              precision    recall  f1-score   support\\n\\n           0       0.79      0.82      0.81       296\\n           1       0.53      0.48      0.50       123\\n\\n    accuracy                           0.72       419\\n   macro avg       0.66      0.65      0.66       419\\nweighted avg       0.72      0.72      0.72       419\\n'"
            ],
            "application/vnd.google.colaboratory.intrinsic+json": {
              "type": "string"
            }
          },
          "metadata": {},
          "execution_count": 24
        }
      ]
    },
    {
      "cell_type": "code",
      "source": [
        "import matplotlib.pyplot as plt\n",
        "error_rate = []\n",
        "for i in range(1,40):\n",
        "    knn = KNeighborsClassifier(n_neighbors=i)\n",
        "    knn.fit(x_train, y_train)\n",
        "    pred = knn.predict(x_test)\n",
        "    error_rate.append(np.mean(y_test != pred))"
      ],
      "metadata": {
        "id": "22FEXVkNPigI"
      },
      "execution_count": 25,
      "outputs": []
    },
    {
      "cell_type": "code",
      "source": [
        "knn = KNeighborsClassifier(n_neighbors=27)\n",
        "knn.fit(x_train, y_train)\n",
        "pred = knn.predict(x_test)\n",
        "classification_report(y_test, pred)"
      ],
      "metadata": {
        "colab": {
          "base_uri": "https://localhost:8080/",
          "height": 70
        },
        "id": "Ngmu5-OTPlCa",
        "outputId": "166d8a17-3cb1-4d6d-bcbd-5dcb5674dc77"
      },
      "execution_count": 26,
      "outputs": [
        {
          "output_type": "execute_result",
          "data": {
            "text/plain": [
              "'              precision    recall  f1-score   support\\n\\n           0       0.73      0.96      0.83       296\\n           1       0.63      0.15      0.25       123\\n\\n    accuracy                           0.73       419\\n   macro avg       0.68      0.56      0.54       419\\nweighted avg       0.70      0.73      0.66       419\\n'"
            ],
            "application/vnd.google.colaboratory.intrinsic+json": {
              "type": "string"
            }
          },
          "metadata": {},
          "execution_count": 26
        }
      ]
    },
    {
      "cell_type": "code",
      "source": [
        "confusion_matrix(y_test, pred)"
      ],
      "metadata": {
        "colab": {
          "base_uri": "https://localhost:8080/"
        },
        "id": "7EZJQxX_PryT",
        "outputId": "b815451b-dafc-4b3e-c7c5-6d3cec0400d6"
      },
      "execution_count": 27,
      "outputs": [
        {
          "output_type": "execute_result",
          "data": {
            "text/plain": [
              "array([[285,  11],\n",
              "       [104,  19]])"
            ]
          },
          "metadata": {},
          "execution_count": 27
        }
      ]
    },
    {
      "cell_type": "code",
      "source": [
        "from sklearn.svm import SVC\n",
        "model = SVC()\n",
        "model.fit(x_train, y_train)\n",
        "pred = model.predict(x_test)\n",
        "classification_report(y_test,pred)"
      ],
      "metadata": {
        "colab": {
          "base_uri": "https://localhost:8080/",
          "height": 70
        },
        "id": "QK2yhri9Ps9C",
        "outputId": "5ba2c169-61c4-4914-f3e9-3fb012accfc6"
      },
      "execution_count": 28,
      "outputs": [
        {
          "output_type": "execute_result",
          "data": {
            "text/plain": [
              "'              precision    recall  f1-score   support\\n\\n           0       0.71      1.00      0.83       296\\n           1       0.00      0.00      0.00       123\\n\\n    accuracy                           0.71       419\\n   macro avg       0.35      0.50      0.41       419\\nweighted avg       0.50      0.71      0.58       419\\n'"
            ],
            "application/vnd.google.colaboratory.intrinsic+json": {
              "type": "string"
            }
          },
          "metadata": {},
          "execution_count": 28
        }
      ]
    },
    {
      "cell_type": "code",
      "source": [
        "confusion_matrix(y_test,pred)\n"
      ],
      "metadata": {
        "colab": {
          "base_uri": "https://localhost:8080/"
        },
        "id": "_TopciHpPuPJ",
        "outputId": "46f3bf7f-a5a9-43c8-d613-de37abd9cf29"
      },
      "execution_count": 29,
      "outputs": [
        {
          "output_type": "execute_result",
          "data": {
            "text/plain": [
              "array([[296,   0],\n",
              "       [123,   0]])"
            ]
          },
          "metadata": {},
          "execution_count": 29
        }
      ]
    },
    {
      "cell_type": "code",
      "source": [
        "models = []\n",
        "models.append(('Logistic Regression:', LogisticRegression()))\n",
        "models.append(('Naive Bayes        :', GaussianNB()))\n",
        "models.append(('SVM                :', SVC()))\n",
        "\n",
        "\n",
        "for name, model in models:\n",
        "    model.fit(x_train, y_train)\n",
        "    pred = model.predict(x_test).astype(int)\n",
        "    print(name, accuracy_score(y_test, pred))"
      ],
      "metadata": {
        "colab": {
          "base_uri": "https://localhost:8080/"
        },
        "id": "p6rU3RO1Pvvp",
        "outputId": "0041df7d-8554-40be-c201-973eaca33a5d"
      },
      "execution_count": 30,
      "outputs": [
        {
          "output_type": "stream",
          "name": "stdout",
          "text": [
            "Logistic Regression: 0.8735083532219571\n",
            "Naive Bayes        : 0.9116945107398569\n",
            "SVM                : 0.7064439140811456\n"
          ]
        }
      ]
    },
    {
      "cell_type": "code",
      "source": [],
      "metadata": {
        "id": "7yn7nHwdPxx2"
      },
      "execution_count": null,
      "outputs": []
    }
  ]
}